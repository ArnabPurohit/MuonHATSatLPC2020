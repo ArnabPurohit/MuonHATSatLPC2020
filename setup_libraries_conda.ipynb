{
 "cells": [
  {
   "cell_type": "markdown",
   "metadata": {},
   "source": [
    "## Set up Instruction\n",
    "These instructions install miniconda and the other libraries required for this tutorial.It will create a new conda environment, which is an indepenent python installation. Then we tell Jupyter about this new environment with the ipython executable.\n",
    "\n",
    "NOTE: This step may take a little while"
   ]
  },
  {
   "cell_type": "code",
   "execution_count": 3,
   "metadata": {},
   "outputs": [
    {
     "name": "stdout",
     "output_type": "stream",
     "text": [
      "Loaded Muon-HAT-2020!\n"
     ]
    }
   ],
   "source": [
    "%%bash\n",
    "#!/bin/bash\n",
    "\n",
    "KERNEL_NAME=\"Muon-HAT-2020\"\n",
    "\n",
    "set -e\n",
    "\n",
    "# Download miniconda3 install script\n",
    "if [[ ! -f $HOME/miniconda3.sh ]]; then\n",
    "    wget --progress=dot:giga https://repo.anaconda.com/miniconda/Miniconda3-latest-Linux-x86_64.sh -O $HOME/miniconda3.sh\n",
    "fi\n",
    "\n",
    "# Install miniconda3\n",
    "if [[ ! -d $HOME/miniconda3 ]]; then\n",
    "    bash $HOME/miniconda3.sh -b -f -u -p $HOME/miniconda3\n",
    "    source $HOME/miniconda3/etc/profile.d/conda.sh\n",
    "else\n",
    "    source $HOME/miniconda3/etc/profile.d/conda.sh\n",
    "fi\n",
    "\n",
    "# Create conda environment\n",
    "if [[ ! -d $HOME/miniconda3/envs/Muon-HAT-2020 ]]; then\n",
    "    conda env create -f environment.yml --name $KERNEL_NAME\n",
    "fi\n",
    "conda activate $KERNEL_NAME\n",
    "\n",
    "# Make a wrapper script to load miniconda python\n",
    "if [[ ! -f python_wrapper.sh ]]; then\n",
    "cat << 'EOF' > python_wrapper.sh\n",
    "#!/bin/bash\n",
    "source $HOME/miniconda3/etc/profile.d/conda.sh\n",
    "conda activate Muon-HAT-2020\n",
    "exec python \"$@\"\n",
    "EOF\n",
    "chmod +x python_wrapper.sh\n",
    "fi\n",
    "\n",
    "# Create the kernel\n",
    "if [[ ! -d $HOME/.local/share/jupyter/kernels/$KERNEL_NAME ]]; then\n",
    "mkdir -p \"$HOME/.local/share/jupyter/kernels/$KERNEL_NAME\"\n",
    "cat << EOF > \"$HOME/.local/share/jupyter/kernels/$KERNEL_NAME/kernel.json\"\n",
    "{\n",
    " \"display_name\": \"$KERNEL_NAME\", \n",
    " \"language\": \"python\", \n",
    " \"argv\": [\n",
    "  \"$PWD/python_wrapper.sh\", \n",
    "  \"-m\", \n",
    "  \"ipykernel_launcher\", \n",
    "  \"-f\", \n",
    "  \"{connection_file}\"\n",
    " ]\n",
    "}\n",
    "EOF\n",
    "fi\n",
    "\n",
    "# Report OK\n",
    "echo \"Loaded $KERNEL_NAME!\""
   ]
  },
  {
   "cell_type": "code",
   "execution_count": null,
   "metadata": {},
   "outputs": [],
   "source": []
  }
 ],
 "metadata": {
  "kernelspec": {
   "display_name": "Python 2",
   "language": "python",
   "name": "python2"
  },
  "language_info": {
   "codemirror_mode": {
    "name": "ipython",
    "version": 2
   },
   "file_extension": ".py",
   "mimetype": "text/x-python",
   "name": "python",
   "nbconvert_exporter": "python",
   "pygments_lexer": "ipython2",
   "version": "2.7.5"
  }
 },
 "nbformat": 4,
 "nbformat_minor": 2
}
